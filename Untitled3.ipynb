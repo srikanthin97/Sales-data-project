{
 "cells": [
  {
   "cell_type": "code",
   "execution_count": 5,
   "id": "b041a72e-660b-46d1-b7ea-2e0e01e09839",
   "metadata": {},
   "outputs": [
    {
     "name": "stdout",
     "output_type": "stream",
     "text": [
      "Requirement already satisfied: pymongo in /opt/anaconda3/lib/python3.11/site-packages (4.11.3)\n",
      "Requirement already satisfied: pandas in /opt/anaconda3/lib/python3.11/site-packages (2.1.4)\n",
      "Requirement already satisfied: sqlalchemy in /opt/anaconda3/lib/python3.11/site-packages (2.0.25)\n",
      "Requirement already satisfied: psycopg2-binary in /opt/anaconda3/lib/python3.11/site-packages (2.9.10)\n",
      "Requirement already satisfied: dnspython<3.0.0,>=1.16.0 in /opt/anaconda3/lib/python3.11/site-packages (from pymongo) (2.7.0)\n",
      "Requirement already satisfied: numpy<2,>=1.23.2 in /opt/anaconda3/lib/python3.11/site-packages (from pandas) (1.26.4)\n",
      "Requirement already satisfied: python-dateutil>=2.8.2 in /opt/anaconda3/lib/python3.11/site-packages (from pandas) (2.8.2)\n",
      "Requirement already satisfied: pytz>=2020.1 in /opt/anaconda3/lib/python3.11/site-packages (from pandas) (2023.3.post1)\n",
      "Requirement already satisfied: tzdata>=2022.1 in /opt/anaconda3/lib/python3.11/site-packages (from pandas) (2023.3)\n",
      "Requirement already satisfied: typing-extensions>=4.6.0 in /opt/anaconda3/lib/python3.11/site-packages (from sqlalchemy) (4.9.0)\n",
      "Requirement already satisfied: greenlet!=0.4.17 in /opt/anaconda3/lib/python3.11/site-packages (from sqlalchemy) (3.0.1)\n",
      "Requirement already satisfied: six>=1.5 in /opt/anaconda3/lib/python3.11/site-packages (from python-dateutil>=2.8.2->pandas) (1.16.0)\n"
     ]
    }
   ],
   "source": [
    "!pip install pymongo pandas sqlalchemy psycopg2-binary"
   ]
  },
  {
   "cell_type": "code",
   "execution_count": 21,
   "id": "1ee0c1a5-5dfa-495d-b08b-2a606cbcab17",
   "metadata": {},
   "outputs": [
    {
     "name": "stdout",
     "output_type": "stream",
     "text": [
      "session ready\n"
     ]
    }
   ],
   "source": [
    "from pymongo import MongoClient\n",
    "\n",
    "# Connect to MongoDB (Adjust URI accordingly)\n",
    "mongo_uri = \"mongodb://localhost:27017/\"  # If running locally\n",
    "client = MongoClient(mongo_uri)\n",
    "\n",
    "# Access database and collection\n",
    "db = client[\"admin\"]  # Change to your actual database name\n",
    "collection = db[\"orders\"]  # Change to your actual collection name\n",
    "\n",
    "print(\"session ready\")"
   ]
  },
  {
   "cell_type": "code",
   "execution_count": 23,
   "id": "d67c8046-cd00-4c8b-ac35-6b719af28ae6",
   "metadata": {},
   "outputs": [
    {
     "name": "stdout",
     "output_type": "stream",
     "text": [
      "Collection(Database(MongoClient(host=['localhost:27017'], document_class=dict, tz_aware=False, connect=True), 'admin'), 'orders')\n"
     ]
    }
   ],
   "source": [
    "print(collection)"
   ]
  },
  {
   "cell_type": "code",
   "execution_count": 25,
   "id": "1a853d9b-5a81-423e-b621-cfed435fffb0",
   "metadata": {},
   "outputs": [
    {
     "name": "stdout",
     "output_type": "stream",
     "text": [
      "{'_id': 'ORD123', 'customer': {'name': 'John Doe', 'email': 'johndoe@example.com', 'address': {'street': '123 Elm St', 'city': 'New York'}}, 'order_date': '2024-03-14T10:30:00Z', 'items': [{'product_name': 'Laptop', 'quantity': 1, 'price': 1200}, {'product_name': 'Mouse', 'quantity': 2, 'price': 25}], 'total_price': 1250}\n"
     ]
    }
   ],
   "source": [
    "import pandas as pd\n",
    "\n",
    "# Fetch data from MongoDB\n",
    "documents = list(collection.find({}))  # Fetch all documents\n",
    "\n",
    "# Preview the first document\n",
    "print(documents[0])\n"
   ]
  },
  {
   "cell_type": "code",
   "execution_count": 27,
   "id": "a9a8d2a9-9078-463c-8a64-2bff4a1555f2",
   "metadata": {},
   "outputs": [
    {
     "name": "stdout",
     "output_type": "stream",
     "text": [
      "  order_id customer_name       customer_email  order_date product_name  \\\n",
      "0   ORD123      John Doe  johndoe@example.com  03/14/2024       Laptop   \n",
      "1   ORD123      John Doe  johndoe@example.com  03/14/2024        Mouse   \n",
      "\n",
      "   quantity  price  \n",
      "0         1   1200  \n",
      "1         2     25  \n"
     ]
    }
   ],
   "source": [
    "# Flatten the bson data\n",
    "def transform_data(documents):\n",
    "    transformed_data = []\n",
    "\n",
    "    for doc in documents:\n",
    "        order_id = doc[\"_id\"]\n",
    "        customer_name = doc[\"customer\"][\"name\"]\n",
    "        customer_email = doc[\"customer\"][\"email\"]\n",
    "        order_date = pd.to_datetime(doc[\"order_date\"]).strftime('%m/%d/%Y')  # Format date\n",
    "        total_price = doc[\"total_price\"]\n",
    "\n",
    "        for item in doc[\"items\"]:\n",
    "            transformed_data.append({\n",
    "                \"order_id\": order_id,\n",
    "                \"customer_name\": customer_name,\n",
    "                \"customer_email\": customer_email,\n",
    "                \"order_date\": order_date,\n",
    "                \"product_name\": item[\"product_name\"],\n",
    "                \"quantity\": item[\"quantity\"],\n",
    "                \"price\": item[\"price\"]\n",
    "            })\n",
    "    \n",
    "    return transformed_data\n",
    "\n",
    "# Apply transformation\n",
    "flat_data = transform_data(documents)\n",
    "\n",
    "# Convert to DataFrame\n",
    "df = pd.DataFrame(flat_data)\n",
    "print(df.head())\n"
   ]
  },
  {
   "cell_type": "code",
   "execution_count": 31,
   "id": "a6b2e6ea-5e2a-4a84-893d-ac524dae8228",
   "metadata": {},
   "outputs": [],
   "source": [
    "# Load data into csv\n",
    "df.to_csv(\"/Users/srikanth/Downloads/transformed_data.csv\", index=False)"
   ]
  },
  {
   "cell_type": "code",
   "execution_count": null,
   "id": "3ffec25f-6c4d-40ca-a58e-d30a651764ed",
   "metadata": {},
   "outputs": [],
   "source": []
  }
 ],
 "metadata": {
  "kernelspec": {
   "display_name": "Python 3 (ipykernel)",
   "language": "python",
   "name": "python3"
  },
  "language_info": {
   "codemirror_mode": {
    "name": "ipython",
    "version": 3
   },
   "file_extension": ".py",
   "mimetype": "text/x-python",
   "name": "python",
   "nbconvert_exporter": "python",
   "pygments_lexer": "ipython3",
   "version": "3.11.7"
  }
 },
 "nbformat": 4,
 "nbformat_minor": 5
}
